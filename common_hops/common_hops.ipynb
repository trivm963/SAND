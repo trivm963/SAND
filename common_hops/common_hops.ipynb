{
 "cells": [
  {
   "cell_type": "code",
   "execution_count": 1,
   "metadata": {},
   "outputs": [],
   "source": [
    "from elasticsearch import Elasticsearch\n",
    "from elasticsearch.helpers import scan, bulk\n",
    "from time import time, strftime, localtime, sleep\n",
    "from datetime import datetime, timedelta\n",
    "from itertools import islice\n",
    "import pickle\n",
    "import numpy as np\n",
    "import pandas as pd\n",
    "import json\n",
    "import multiprocessing as mp\n",
    "import matplotlib.pyplot as plt\n",
    "import matplotlib.axes as ax"
   ]
  },
  {
   "cell_type": "code",
   "execution_count": 2,
   "metadata": {},
   "outputs": [],
   "source": [
    "%load_ext autoreload\n",
    "%autoreload 2\n",
    "\n",
    "import queries as qrs"
   ]
  },
  {
   "cell_type": "code",
   "execution_count": 3,
   "metadata": {},
   "outputs": [
    {
     "name": "stdout",
     "output_type": "stream",
     "text": [
      "Connection Successful\n"
     ]
    }
   ],
   "source": [
    "user = None\n",
    "passwd = None\n",
    "if user is None and passwd is None:\n",
    "    with open(\"creds.key\") as f:\n",
    "        user = f.readline().strip()\n",
    "        passwd = f.readline().strip()\n",
    "credentials = (user, passwd)\n",
    "es = Elasticsearch(['atlas-kibana.mwt2.org:9200'], timeout=240, http_auth=credentials)\n",
    "\n",
    "print(\"Connection Successful\") if es.ping() == True else print(\"Connection Unsuccessful\")"
   ]
  },
  {
   "cell_type": "code",
   "execution_count": 16,
   "metadata": {},
   "outputs": [
    {
     "name": "stdout",
     "output_type": "stream",
     "text": [
      "9\n",
      "134.158.72.2 ,  192.70.69.201\n",
      "192.70.69.201 ,  193.51.187.194\n",
      "193.51.187.194 ,  193.51.180.114\n",
      "193.51.180.114 ,  62.40.126.205\n",
      "62.40.126.205 ,  62.40.126.197\n",
      "62.40.126.197 ,  62.40.126.198\n",
      "62.40.126.198 ,  130.206.206.166\n",
      "130.206.206.166 ,  192.101.166.131\n",
      "192.101.166.131 ,  192.101.161.185\n"
     ]
    }
   ],
   "source": [
    "qrs.common_hops(es, 'GRIF', 'CIEMAT-LCG2','GRIF', 'CIEMAT-LCG2', False)"
   ]
  },
  {
   "cell_type": "code",
   "execution_count": null,
   "metadata": {},
   "outputs": [],
   "source": []
  }
 ],
 "metadata": {
  "kernelspec": {
   "display_name": "Python 3",
   "language": "python",
   "name": "python3"
  },
  "language_info": {
   "codemirror_mode": {
    "name": "ipython",
    "version": 3
   },
   "file_extension": ".py",
   "mimetype": "text/x-python",
   "name": "python",
   "nbconvert_exporter": "python",
   "pygments_lexer": "ipython3",
   "version": "3.5.2"
  }
 },
 "nbformat": 4,
 "nbformat_minor": 4
}
