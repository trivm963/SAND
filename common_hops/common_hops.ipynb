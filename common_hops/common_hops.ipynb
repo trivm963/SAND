{
 "cells": [
  {
   "cell_type": "code",
   "execution_count": null,
   "metadata": {},
   "outputs": [],
   "source": [
    "from elasticsearch import Elasticsearch\n",
    "from elasticsearch.helpers import scan, bulk\n",
    "import json"
   ]
  },
  {
   "cell_type": "code",
   "execution_count": null,
   "metadata": {},
   "outputs": [],
   "source": [
    "import queries as qrs"
   ]
  },
  {
   "cell_type": "code",
   "execution_count": null,
   "metadata": {},
   "outputs": [],
   "source": [
    "user = None\n",
    "passwd = None\n",
    "if user is None and passwd is None:\n",
    "    with open(\"creds.key\") as f:\n",
    "        user = f.readline().strip()\n",
    "        passwd = f.readline().strip()\n",
    "credentials = (user, passwd)\n",
    "es = Elasticsearch(['atlas-kibana.mwt2.org:9200'], timeout=240, http_auth=credentials)\n",
    "\n",
    "print(\"Connection Successful\") if es.ping() == True else print(\"Connection Unsuccessful\")"
   ]
  },
  {
   "cell_type": "code",
   "execution_count": null,
   "metadata": {},
   "outputs": [],
   "source": [
    "\"\"\"\n",
    "Input:\n",
    "es\n",
    "True if ipv6, False if ipv4 (bool)\n",
    "time in milliseconds since epoch (string)\n",
    "time range we are considering in hours (int)\n",
    "source and dest pairs: s1, d1, s2, d2, ... sn, dn (string)\n",
    "\n",
    "Output:\n",
    "list of pairs with differing before and after paths\n",
    "\n",
    "# of common hops\n",
    "\n",
    "ip_from_1, ip_to_1, position_in_pair1, position_in_pair2\n",
    "ip_from_2, ip_to_2, position_in_pair1, position_in_pair2\n",
    "...\n",
    "ip_from_n, ip_to_n, position_in_pair1, position_in_pair2\n",
    "\n",
    "Note: Positions use 0-based indexing\n",
    "\"\"\"\n",
    "qrs.common_hops(es, False, '1585908924000', 2, 'psonar3.fnal.gov', 'perfsonar02.datagrid.cea.fr', 'psonar3.fnal.gov', 'perfsonar02.datagrid.cea.fr')"
   ]
  }
 ],
 "metadata": {
  "kernelspec": {
   "display_name": "Python 3",
   "language": "python",
   "name": "python3"
  },
  "language_info": {
   "codemirror_mode": {
    "name": "ipython",
    "version": 3
   },
   "file_extension": ".py",
   "mimetype": "text/x-python",
   "name": "python",
   "nbconvert_exporter": "python",
   "pygments_lexer": "ipython3",
   "version": "3.6.9"
  }
 },
 "nbformat": 4,
 "nbformat_minor": 4
}