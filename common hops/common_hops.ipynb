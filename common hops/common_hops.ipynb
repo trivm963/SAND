{
 "cells": [
  {
   "cell_type": "code",
   "execution_count": 124,
   "metadata": {},
   "outputs": [],
   "source": [
    "from elasticsearch import Elasticsearch\n",
    "from elasticsearch.helpers import scan, bulk\n",
    "from time import time, strftime, localtime, sleep\n",
    "from datetime import datetime, timedelta\n",
    "from itertools import islice\n",
    "import pickle\n",
    "import numpy as np\n",
    "import pandas as pd\n",
    "import json\n",
    "import multiprocessing as mp\n",
    "import matplotlib.pyplot as plt\n",
    "import matplotlib.axes as ax"
   ]
  },
  {
   "cell_type": "code",
   "execution_count": 125,
   "metadata": {},
   "outputs": [
    {
     "name": "stdout",
     "output_type": "stream",
     "text": [
      "The autoreload extension is already loaded. To reload it, use:\n",
      "  %reload_ext autoreload\n"
     ]
    }
   ],
   "source": [
    "%load_ext autoreload\n",
    "%autoreload 2\n",
    "\n",
    "import r_utils as ut\n",
    "import elasticqueries as qrs"
   ]
  },
  {
   "cell_type": "code",
   "execution_count": 132,
   "metadata": {},
   "outputs": [
    {
     "name": "stdout",
     "output_type": "stream",
     "text": [
      "Connection Successful\n"
     ]
    }
   ],
   "source": [
    "user = None\n",
    "passwd = None\n",
    "if user is None and passwd is None:\n",
    "    with open(\"creds.key\") as f:\n",
    "        user = f.readline().strip()\n",
    "        passwd = f.readline().strip()\n",
    "credentials = (user, passwd)\n",
    "es = Elasticsearch(['atlas-kibana.mwt2.org:9200'], timeout=240, http_auth=credentials)\n",
    "\n",
    "print(\"Connection Successful\") if es.ping() == True else print(\"Connection Unsuccessful\")"
   ]
  },
  {
   "cell_type": "code",
   "execution_count": 133,
   "metadata": {},
   "outputs": [
    {
     "name": "stdout",
     "output_type": "stream",
     "text": [
      "2\n",
      "193.48.99.100\n",
      "192.70.69.153\n"
     ]
    }
   ],
   "source": [
    "data1 = qrs.getHops(es, 'ps_trace', 'IN2P3-CC', 'CIEMAT-LCG2')\n",
    "data2 = qrs.getHops(es, 'ps_trace', 'IN2P3-CC', 'CA-VICTORIA-WESTGRID-T2')\n",
    "\n",
    "hops1 = []\n",
    "hops2 = []\n",
    "common_hops = []\n",
    "\n",
    "for x in range(len(data1['aggregations']['hops_list']['buckets'])):\n",
    "    hops1.append(data1['aggregations']['hops_list']['buckets'][x]['key'])\n",
    "    \n",
    "for x in range(len(data2['aggregations']['hops_list']['buckets'])):\n",
    "    hops2.append(data2['aggregations']['hops_list']['buckets'][x]['key'])\n",
    "    \n",
    "n_common = 0\n",
    "    \n",
    "for x in range(len(hops1)):\n",
    "    for y in range(len(hops2)):\n",
    "        if (hops1[x] == hops2[y]):\n",
    "            common_hops.append(hops1[x])\n",
    "            n_common += 1\n",
    "\n",
    "print(n_common)\n",
    "\n",
    "if (n_common != 0):\n",
    "    for x in range(len(common_hops)):\n",
    "        print(common_hops[x])\n"
   ]
  },
  {
   "cell_type": "code",
   "execution_count": null,
   "metadata": {},
   "outputs": [],
   "source": []
  }
 ],
 "metadata": {
  "kernelspec": {
   "display_name": "Python 3",
   "language": "python",
   "name": "python3"
  },
  "language_info": {
   "codemirror_mode": {
    "name": "ipython",
    "version": 3
   },
   "file_extension": ".py",
   "mimetype": "text/x-python",
   "name": "python",
   "nbconvert_exporter": "python",
   "pygments_lexer": "ipython3",
   "version": "3.6.8"
  }
 },
 "nbformat": 4,
 "nbformat_minor": 4
}
